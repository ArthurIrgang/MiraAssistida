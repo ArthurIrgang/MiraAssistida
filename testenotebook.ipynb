{
 "cells": [
  {
   "cell_type": "code",
   "execution_count": 1,
   "metadata": {},
   "outputs": [
    {
     "ename": "KeyboardInterrupt",
     "evalue": "",
     "output_type": "error",
     "traceback": [
      "\u001b[1;31m---------------------------------------------------------------------------\u001b[0m",
      "\u001b[1;31mKeyboardInterrupt\u001b[0m                         Traceback (most recent call last)",
      "Cell \u001b[1;32mIn[1], line 16\u001b[0m\n\u001b[0;32m     13\u001b[0m \u001b[39m# Loop through frames from the camera and display them\u001b[39;00m\n\u001b[0;32m     14\u001b[0m \u001b[39mwhile\u001b[39;00m \u001b[39mTrue\u001b[39;00m:\n\u001b[0;32m     15\u001b[0m     \u001b[39m# Read a frame from the camera\u001b[39;00m\n\u001b[1;32m---> 16\u001b[0m     ret, frame \u001b[39m=\u001b[39m video_capture\u001b[39m.\u001b[39;49mread()\n\u001b[0;32m     18\u001b[0m     \u001b[39m# Check if a frame was successfully captured\u001b[39;00m\n\u001b[0;32m     19\u001b[0m     \u001b[39mif\u001b[39;00m \u001b[39mnot\u001b[39;00m ret:\n",
      "\u001b[1;31mKeyboardInterrupt\u001b[0m: "
     ]
    }
   ],
   "source": [
    "#O prensente arquivo é um script de testes.\n",
    "\n",
    "import cv2\n",
    "\n",
    "# Create a VideoCapture object to capture video from the default camera (i.e. webcam)\n",
    "video_capture = cv2.VideoCapture(0)\n",
    "\n",
    "# Check if the camera is opened successfully\n",
    "if not video_capture.isOpened():\n",
    "    print(\"Could not open video device\")\n",
    "    exit()\n",
    "\n",
    "# Loop through frames from the camera and display them\n",
    "while True:\n",
    "    # Read a frame from the camera\n",
    "    ret, frame = video_capture.read()\n",
    "\n",
    "    # Check if a frame was successfully captured\n",
    "    if not ret:\n",
    "        print(\"Could not read frame\")\n",
    "        break\n",
    "\n",
    "    # Display the frame\n",
    "    cv2.imshow('frame', frame)\n",
    "\n",
    "    # Wait for user input to exit the loop (press 'q')\n",
    "    if cv2.waitKey(1) & 0xFF == ord('q'):\n",
    "        break\n",
    "\n",
    "# Release the VideoCapture object and close the window\n",
    "video_capture.release()\n",
    "cv2.destroyAllWindows()\n"
   ]
  }
 ],
 "metadata": {
  "kernelspec": {
   "display_name": "env",
   "language": "python",
   "name": "python3"
  },
  "language_info": {
   "codemirror_mode": {
    "name": "ipython",
    "version": 3
   },
   "file_extension": ".py",
   "mimetype": "text/x-python",
   "name": "python",
   "nbconvert_exporter": "python",
   "pygments_lexer": "ipython3",
   "version": "3.10.10"
  },
  "orig_nbformat": 4,
  "vscode": {
   "interpreter": {
    "hash": "5e199e24ea20fc2fb180177f98251d4611bc876bb94b758f96bdc1ee0fd47239"
   }
  }
 },
 "nbformat": 4,
 "nbformat_minor": 2
}
